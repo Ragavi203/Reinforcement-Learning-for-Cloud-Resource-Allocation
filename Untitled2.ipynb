{
  "nbformat": 4,
  "nbformat_minor": 0,
  "metadata": {
    "colab": {
      "provenance": [],
      "include_colab_link": true
    },
    "kernelspec": {
      "name": "python3",
      "display_name": "Python 3"
    },
    "language_info": {
      "name": "python"
    }
  },
  "cells": [
    {
      "cell_type": "markdown",
      "metadata": {
        "id": "view-in-github",
        "colab_type": "text"
      },
      "source": [
        "<a href=\"https://colab.research.google.com/github/Ragavi203/Reinforcement-Learning-for-Cloud-Resource-Allocation/blob/main/Untitled2.ipynb\" target=\"_parent\"><img src=\"https://colab.research.google.com/assets/colab-badge.svg\" alt=\"Open In Colab\"/></a>"
      ]
    },
    {
      "cell_type": "code",
      "source": [
        "!pip install tensorflow gym stable-baselines3 matplotlib"
      ],
      "metadata": {
        "id": "haPn67bWYZd1",
        "outputId": "06d50af9-c362-4439-b932-aef6292d3f31",
        "colab": {
          "base_uri": "https://localhost:8080/"
        }
      },
      "execution_count": 1,
      "outputs": [
        {
          "output_type": "stream",
          "name": "stdout",
          "text": [
            "Requirement already satisfied: tensorflow in /usr/local/lib/python3.11/dist-packages (2.17.1)\n",
            "Requirement already satisfied: gym in /usr/local/lib/python3.11/dist-packages (0.25.2)\n",
            "Collecting stable-baselines3\n",
            "  Downloading stable_baselines3-2.4.1-py3-none-any.whl.metadata (4.5 kB)\n",
            "Requirement already satisfied: matplotlib in /usr/local/lib/python3.11/dist-packages (3.10.0)\n",
            "Requirement already satisfied: absl-py>=1.0.0 in /usr/local/lib/python3.11/dist-packages (from tensorflow) (1.4.0)\n",
            "Requirement already satisfied: astunparse>=1.6.0 in /usr/local/lib/python3.11/dist-packages (from tensorflow) (1.6.3)\n",
            "Requirement already satisfied: flatbuffers>=24.3.25 in /usr/local/lib/python3.11/dist-packages (from tensorflow) (25.1.21)\n",
            "Requirement already satisfied: gast!=0.5.0,!=0.5.1,!=0.5.2,>=0.2.1 in /usr/local/lib/python3.11/dist-packages (from tensorflow) (0.6.0)\n",
            "Requirement already satisfied: google-pasta>=0.1.1 in /usr/local/lib/python3.11/dist-packages (from tensorflow) (0.2.0)\n",
            "Requirement already satisfied: h5py>=3.10.0 in /usr/local/lib/python3.11/dist-packages (from tensorflow) (3.12.1)\n",
            "Requirement already satisfied: libclang>=13.0.0 in /usr/local/lib/python3.11/dist-packages (from tensorflow) (18.1.1)\n",
            "Requirement already satisfied: ml-dtypes<0.5.0,>=0.3.1 in /usr/local/lib/python3.11/dist-packages (from tensorflow) (0.4.1)\n",
            "Requirement already satisfied: opt-einsum>=2.3.2 in /usr/local/lib/python3.11/dist-packages (from tensorflow) (3.4.0)\n",
            "Requirement already satisfied: packaging in /usr/local/lib/python3.11/dist-packages (from tensorflow) (24.2)\n",
            "Requirement already satisfied: protobuf!=4.21.0,!=4.21.1,!=4.21.2,!=4.21.3,!=4.21.4,!=4.21.5,<5.0.0dev,>=3.20.3 in /usr/local/lib/python3.11/dist-packages (from tensorflow) (4.25.5)\n",
            "Requirement already satisfied: requests<3,>=2.21.0 in /usr/local/lib/python3.11/dist-packages (from tensorflow) (2.32.3)\n",
            "Requirement already satisfied: setuptools in /usr/local/lib/python3.11/dist-packages (from tensorflow) (75.1.0)\n",
            "Requirement already satisfied: six>=1.12.0 in /usr/local/lib/python3.11/dist-packages (from tensorflow) (1.17.0)\n",
            "Requirement already satisfied: termcolor>=1.1.0 in /usr/local/lib/python3.11/dist-packages (from tensorflow) (2.5.0)\n",
            "Requirement already satisfied: typing-extensions>=3.6.6 in /usr/local/lib/python3.11/dist-packages (from tensorflow) (4.12.2)\n",
            "Requirement already satisfied: wrapt>=1.11.0 in /usr/local/lib/python3.11/dist-packages (from tensorflow) (1.17.2)\n",
            "Requirement already satisfied: grpcio<2.0,>=1.24.3 in /usr/local/lib/python3.11/dist-packages (from tensorflow) (1.69.0)\n",
            "Requirement already satisfied: tensorboard<2.18,>=2.17 in /usr/local/lib/python3.11/dist-packages (from tensorflow) (2.17.1)\n",
            "Requirement already satisfied: keras>=3.2.0 in /usr/local/lib/python3.11/dist-packages (from tensorflow) (3.5.0)\n",
            "Requirement already satisfied: tensorflow-io-gcs-filesystem>=0.23.1 in /usr/local/lib/python3.11/dist-packages (from tensorflow) (0.37.1)\n",
            "Requirement already satisfied: numpy<2.0.0,>=1.23.5 in /usr/local/lib/python3.11/dist-packages (from tensorflow) (1.26.4)\n",
            "Requirement already satisfied: cloudpickle>=1.2.0 in /usr/local/lib/python3.11/dist-packages (from gym) (3.1.1)\n",
            "Requirement already satisfied: gym_notices>=0.0.4 in /usr/local/lib/python3.11/dist-packages (from gym) (0.0.8)\n",
            "Collecting gymnasium<1.1.0,>=0.29.1 (from stable-baselines3)\n",
            "  Downloading gymnasium-1.0.0-py3-none-any.whl.metadata (9.5 kB)\n",
            "Requirement already satisfied: torch>=1.13 in /usr/local/lib/python3.11/dist-packages (from stable-baselines3) (2.5.1+cu121)\n",
            "Requirement already satisfied: pandas in /usr/local/lib/python3.11/dist-packages (from stable-baselines3) (2.2.2)\n",
            "Requirement already satisfied: contourpy>=1.0.1 in /usr/local/lib/python3.11/dist-packages (from matplotlib) (1.3.1)\n",
            "Requirement already satisfied: cycler>=0.10 in /usr/local/lib/python3.11/dist-packages (from matplotlib) (0.12.1)\n",
            "Requirement already satisfied: fonttools>=4.22.0 in /usr/local/lib/python3.11/dist-packages (from matplotlib) (4.55.4)\n",
            "Requirement already satisfied: kiwisolver>=1.3.1 in /usr/local/lib/python3.11/dist-packages (from matplotlib) (1.4.8)\n",
            "Requirement already satisfied: pillow>=8 in /usr/local/lib/python3.11/dist-packages (from matplotlib) (11.1.0)\n",
            "Requirement already satisfied: pyparsing>=2.3.1 in /usr/local/lib/python3.11/dist-packages (from matplotlib) (3.2.1)\n",
            "Requirement already satisfied: python-dateutil>=2.7 in /usr/local/lib/python3.11/dist-packages (from matplotlib) (2.8.2)\n",
            "Requirement already satisfied: wheel<1.0,>=0.23.0 in /usr/local/lib/python3.11/dist-packages (from astunparse>=1.6.0->tensorflow) (0.45.1)\n",
            "Collecting farama-notifications>=0.0.1 (from gymnasium<1.1.0,>=0.29.1->stable-baselines3)\n",
            "  Downloading Farama_Notifications-0.0.4-py3-none-any.whl.metadata (558 bytes)\n",
            "Requirement already satisfied: rich in /usr/local/lib/python3.11/dist-packages (from keras>=3.2.0->tensorflow) (13.9.4)\n",
            "Requirement already satisfied: namex in /usr/local/lib/python3.11/dist-packages (from keras>=3.2.0->tensorflow) (0.0.8)\n",
            "Requirement already satisfied: optree in /usr/local/lib/python3.11/dist-packages (from keras>=3.2.0->tensorflow) (0.14.0)\n",
            "Requirement already satisfied: charset-normalizer<4,>=2 in /usr/local/lib/python3.11/dist-packages (from requests<3,>=2.21.0->tensorflow) (3.4.1)\n",
            "Requirement already satisfied: idna<4,>=2.5 in /usr/local/lib/python3.11/dist-packages (from requests<3,>=2.21.0->tensorflow) (3.10)\n",
            "Requirement already satisfied: urllib3<3,>=1.21.1 in /usr/local/lib/python3.11/dist-packages (from requests<3,>=2.21.0->tensorflow) (2.3.0)\n",
            "Requirement already satisfied: certifi>=2017.4.17 in /usr/local/lib/python3.11/dist-packages (from requests<3,>=2.21.0->tensorflow) (2024.12.14)\n",
            "Requirement already satisfied: markdown>=2.6.8 in /usr/local/lib/python3.11/dist-packages (from tensorboard<2.18,>=2.17->tensorflow) (3.7)\n",
            "Requirement already satisfied: tensorboard-data-server<0.8.0,>=0.7.0 in /usr/local/lib/python3.11/dist-packages (from tensorboard<2.18,>=2.17->tensorflow) (0.7.2)\n",
            "Requirement already satisfied: werkzeug>=1.0.1 in /usr/local/lib/python3.11/dist-packages (from tensorboard<2.18,>=2.17->tensorflow) (3.1.3)\n",
            "Requirement already satisfied: filelock in /usr/local/lib/python3.11/dist-packages (from torch>=1.13->stable-baselines3) (3.17.0)\n",
            "Requirement already satisfied: networkx in /usr/local/lib/python3.11/dist-packages (from torch>=1.13->stable-baselines3) (3.4.2)\n",
            "Requirement already satisfied: jinja2 in /usr/local/lib/python3.11/dist-packages (from torch>=1.13->stable-baselines3) (3.1.5)\n",
            "Requirement already satisfied: fsspec in /usr/local/lib/python3.11/dist-packages (from torch>=1.13->stable-baselines3) (2024.10.0)\n",
            "Requirement already satisfied: nvidia-cuda-nvrtc-cu12==12.1.105 in /usr/local/lib/python3.11/dist-packages (from torch>=1.13->stable-baselines3) (12.1.105)\n",
            "Requirement already satisfied: nvidia-cuda-runtime-cu12==12.1.105 in /usr/local/lib/python3.11/dist-packages (from torch>=1.13->stable-baselines3) (12.1.105)\n",
            "Requirement already satisfied: nvidia-cuda-cupti-cu12==12.1.105 in /usr/local/lib/python3.11/dist-packages (from torch>=1.13->stable-baselines3) (12.1.105)\n",
            "Requirement already satisfied: nvidia-cudnn-cu12==9.1.0.70 in /usr/local/lib/python3.11/dist-packages (from torch>=1.13->stable-baselines3) (9.1.0.70)\n",
            "Requirement already satisfied: nvidia-cublas-cu12==12.1.3.1 in /usr/local/lib/python3.11/dist-packages (from torch>=1.13->stable-baselines3) (12.1.3.1)\n",
            "Requirement already satisfied: nvidia-cufft-cu12==11.0.2.54 in /usr/local/lib/python3.11/dist-packages (from torch>=1.13->stable-baselines3) (11.0.2.54)\n",
            "Requirement already satisfied: nvidia-curand-cu12==10.3.2.106 in /usr/local/lib/python3.11/dist-packages (from torch>=1.13->stable-baselines3) (10.3.2.106)\n",
            "Requirement already satisfied: nvidia-cusolver-cu12==11.4.5.107 in /usr/local/lib/python3.11/dist-packages (from torch>=1.13->stable-baselines3) (11.4.5.107)\n",
            "Requirement already satisfied: nvidia-cusparse-cu12==12.1.0.106 in /usr/local/lib/python3.11/dist-packages (from torch>=1.13->stable-baselines3) (12.1.0.106)\n",
            "Requirement already satisfied: nvidia-nccl-cu12==2.21.5 in /usr/local/lib/python3.11/dist-packages (from torch>=1.13->stable-baselines3) (2.21.5)\n",
            "Requirement already satisfied: nvidia-nvtx-cu12==12.1.105 in /usr/local/lib/python3.11/dist-packages (from torch>=1.13->stable-baselines3) (12.1.105)\n",
            "Requirement already satisfied: triton==3.1.0 in /usr/local/lib/python3.11/dist-packages (from torch>=1.13->stable-baselines3) (3.1.0)\n",
            "Requirement already satisfied: sympy==1.13.1 in /usr/local/lib/python3.11/dist-packages (from torch>=1.13->stable-baselines3) (1.13.1)\n",
            "Requirement already satisfied: nvidia-nvjitlink-cu12 in /usr/local/lib/python3.11/dist-packages (from nvidia-cusolver-cu12==11.4.5.107->torch>=1.13->stable-baselines3) (12.6.85)\n",
            "Requirement already satisfied: mpmath<1.4,>=1.1.0 in /usr/local/lib/python3.11/dist-packages (from sympy==1.13.1->torch>=1.13->stable-baselines3) (1.3.0)\n",
            "Requirement already satisfied: pytz>=2020.1 in /usr/local/lib/python3.11/dist-packages (from pandas->stable-baselines3) (2024.2)\n",
            "Requirement already satisfied: tzdata>=2022.7 in /usr/local/lib/python3.11/dist-packages (from pandas->stable-baselines3) (2025.1)\n",
            "Requirement already satisfied: MarkupSafe>=2.1.1 in /usr/local/lib/python3.11/dist-packages (from werkzeug>=1.0.1->tensorboard<2.18,>=2.17->tensorflow) (3.0.2)\n",
            "Requirement already satisfied: markdown-it-py>=2.2.0 in /usr/local/lib/python3.11/dist-packages (from rich->keras>=3.2.0->tensorflow) (3.0.0)\n",
            "Requirement already satisfied: pygments<3.0.0,>=2.13.0 in /usr/local/lib/python3.11/dist-packages (from rich->keras>=3.2.0->tensorflow) (2.18.0)\n",
            "Requirement already satisfied: mdurl~=0.1 in /usr/local/lib/python3.11/dist-packages (from markdown-it-py>=2.2.0->rich->keras>=3.2.0->tensorflow) (0.1.2)\n",
            "Downloading stable_baselines3-2.4.1-py3-none-any.whl (183 kB)\n",
            "\u001b[2K   \u001b[90m━━━━━━━━━━━━━━━━━━━━━━━━━━━━━━━━━━━━━━━━\u001b[0m \u001b[32m184.0/184.0 kB\u001b[0m \u001b[31m2.6 MB/s\u001b[0m eta \u001b[36m0:00:00\u001b[0m\n",
            "\u001b[?25hDownloading gymnasium-1.0.0-py3-none-any.whl (958 kB)\n",
            "\u001b[2K   \u001b[90m━━━━━━━━━━━━━━━━━━━━━━━━━━━━━━━━━━━━━━━━\u001b[0m \u001b[32m958.1/958.1 kB\u001b[0m \u001b[31m15.4 MB/s\u001b[0m eta \u001b[36m0:00:00\u001b[0m\n",
            "\u001b[?25hDownloading Farama_Notifications-0.0.4-py3-none-any.whl (2.5 kB)\n",
            "Installing collected packages: farama-notifications, gymnasium, stable-baselines3\n",
            "Successfully installed farama-notifications-0.0.4 gymnasium-1.0.0 stable-baselines3-2.4.1\n"
          ]
        }
      ]
    },
    {
      "cell_type": "code",
      "source": [
        "import gym\n",
        "from gym import spaces\n",
        "import numpy as np\n",
        "\n",
        "class CloudEnv(gym.Env):\n",
        "    def __init__(self):\n",
        "        super(CloudEnv, self).__init__()\n",
        "        self.state = np.array([0.5, 0.5, 0.5])  # Example: CPU, memory, storage usage\n",
        "        self.action_space = spaces.Discrete(3)  # Example: 3 actions (allocate, deallocate, no-op)\n",
        "        self.observation_space = spaces.Box(low=0, high=1, shape=(3,), dtype=np.float32)\n",
        "\n",
        "    def step(self, action):\n",
        "        # Update state based on action\n",
        "        if action == 0:  # Allocate\n",
        "            self.state += 0.1\n",
        "        elif action == 1:  # Deallocate\n",
        "            self.state -= 0.1\n",
        "        # Ensure state stays within bounds\n",
        "        self.state = np.clip(self.state, 0, 1)\n",
        "        # Calculate reward (e.g., maximize utilization, minimize cost)\n",
        "        reward = np.mean(self.state) - 0.1 * np.std(self.state)\n",
        "        done = False  # Continue until manually stopped\n",
        "        return self.state, reward, done, {}\n",
        "\n",
        "    def reset(self):\n",
        "        self.state = np.array([0.5, 0.5, 0.5])\n",
        "        return self.state\n",
        "\n",
        "env = CloudEnv()"
      ],
      "metadata": {
        "id": "N77ZMLl3YdNw"
      },
      "execution_count": 2,
      "outputs": []
    },
    {
      "cell_type": "code",
      "source": [
        "from stable_baselines3 import PPO\n",
        "model = PPO(\"MlpPolicy\", env, verbose=1)\n",
        "model.learn(total_timesteps=10000)"
      ],
      "metadata": {
        "id": "y2cfACSYYk_9",
        "outputId": "73255634-acf5-4556-db2a-4114ccb852ad",
        "colab": {
          "base_uri": "https://localhost:8080/"
        }
      },
      "execution_count": 5,
      "outputs": [
        {
          "output_type": "stream",
          "name": "stdout",
          "text": [
            "Using cpu device\n",
            "Wrapping the env with a `Monitor` wrapper\n",
            "Wrapping the env in a DummyVecEnv.\n"
          ]
        },
        {
          "output_type": "stream",
          "name": "stderr",
          "text": [
            "/usr/local/lib/python3.11/dist-packages/stable_baselines3/common/vec_env/patch_gym.py:49: UserWarning: You provided an OpenAI Gym environment. We strongly recommend transitioning to Gymnasium environments. Stable-Baselines3 is automatically wrapping your environments in a compatibility layer, which could potentially cause issues.\n",
            "  warnings.warn(\n"
          ]
        },
        {
          "output_type": "stream",
          "name": "stdout",
          "text": [
            "-----------------------------\n",
            "| time/              |      |\n",
            "|    fps             | 902  |\n",
            "|    iterations      | 1    |\n",
            "|    time_elapsed    | 2    |\n",
            "|    total_timesteps | 2048 |\n",
            "-----------------------------\n",
            "-----------------------------------------\n",
            "| time/                   |             |\n",
            "|    fps                  | 574         |\n",
            "|    iterations           | 2           |\n",
            "|    time_elapsed         | 7           |\n",
            "|    total_timesteps      | 4096        |\n",
            "| train/                  |             |\n",
            "|    approx_kl            | 0.021131948 |\n",
            "|    clip_fraction        | 0.219       |\n",
            "|    clip_range           | 0.2         |\n",
            "|    entropy_loss         | -1.08       |\n",
            "|    explained_variance   | -0.0581     |\n",
            "|    learning_rate        | 0.0003      |\n",
            "|    loss                 | 3.53        |\n",
            "|    n_updates            | 10          |\n",
            "|    policy_gradient_loss | -0.0223     |\n",
            "|    value_loss           | 29.7        |\n",
            "-----------------------------------------\n",
            "-----------------------------------------\n",
            "| time/                   |             |\n",
            "|    fps                  | 572         |\n",
            "|    iterations           | 3           |\n",
            "|    time_elapsed         | 10          |\n",
            "|    total_timesteps      | 6144        |\n",
            "| train/                  |             |\n",
            "|    approx_kl            | 0.016208373 |\n",
            "|    clip_fraction        | 0.125       |\n",
            "|    clip_range           | 0.2         |\n",
            "|    entropy_loss         | -1.04       |\n",
            "|    explained_variance   | 0.424       |\n",
            "|    learning_rate        | 0.0003      |\n",
            "|    loss                 | 10.6        |\n",
            "|    n_updates            | 20          |\n",
            "|    policy_gradient_loss | -0.017      |\n",
            "|    value_loss           | 69.1        |\n",
            "-----------------------------------------\n",
            "-----------------------------------------\n",
            "| time/                   |             |\n",
            "|    fps                  | 569         |\n",
            "|    iterations           | 4           |\n",
            "|    time_elapsed         | 14          |\n",
            "|    total_timesteps      | 8192        |\n",
            "| train/                  |             |\n",
            "|    approx_kl            | 0.017881721 |\n",
            "|    clip_fraction        | 0.19        |\n",
            "|    clip_range           | 0.2         |\n",
            "|    entropy_loss         | -0.955      |\n",
            "|    explained_variance   | 0.0479      |\n",
            "|    learning_rate        | 0.0003      |\n",
            "|    loss                 | 17.8        |\n",
            "|    n_updates            | 30          |\n",
            "|    policy_gradient_loss | -0.0225     |\n",
            "|    value_loss           | 87.9        |\n",
            "-----------------------------------------\n",
            "-----------------------------------------\n",
            "| time/                   |             |\n",
            "|    fps                  | 556         |\n",
            "|    iterations           | 5           |\n",
            "|    time_elapsed         | 18          |\n",
            "|    total_timesteps      | 10240       |\n",
            "| train/                  |             |\n",
            "|    approx_kl            | 0.013434734 |\n",
            "|    clip_fraction        | 0.0874      |\n",
            "|    clip_range           | 0.2         |\n",
            "|    entropy_loss         | -0.881      |\n",
            "|    explained_variance   | 0.00298     |\n",
            "|    learning_rate        | 0.0003      |\n",
            "|    loss                 | 14.8        |\n",
            "|    n_updates            | 40          |\n",
            "|    policy_gradient_loss | -0.0108     |\n",
            "|    value_loss           | 78.7        |\n",
            "-----------------------------------------\n"
          ]
        },
        {
          "output_type": "execute_result",
          "data": {
            "text/plain": [
              "<stable_baselines3.ppo.ppo.PPO at 0x7e9716f33a90>"
            ]
          },
          "metadata": {},
          "execution_count": 5
        }
      ]
    },
    {
      "cell_type": "code",
      "source": [
        "!pip install shimmy>=2.0"
      ],
      "metadata": {
        "id": "-HoXATSYYwc2",
        "outputId": "951ad075-4ce3-4a7b-a6ae-fdf72a6cf565",
        "colab": {
          "base_uri": "https://localhost:8080/"
        }
      },
      "execution_count": 4,
      "outputs": [
        {
          "output_type": "stream",
          "name": "stderr",
          "text": [
            "/usr/local/lib/python3.11/dist-packages/ipykernel/ipkernel.py:283: DeprecationWarning: `should_run_async` will not call `transform_cell` automatically in the future. Please pass the result to `transformed_cell` argument and any exception that happen during thetransform in `preprocessing_exc_tuple` in IPython 7.17 and above.\n",
            "  and should_run_async(code)\n"
          ]
        }
      ]
    },
    {
      "cell_type": "code",
      "source": [
        "obs = env.reset()\n",
        "for _ in range(100):\n",
        "    action, _states = model.predict(obs)\n",
        "    obs, rewards, done, info = env.step(action)\n",
        "    print(f\"State: {obs}, Reward: {rewards}\")"
      ],
      "metadata": {
        "id": "Gl8pdMu1YnUa",
        "outputId": "8ac05ee7-18c2-4473-f585-e7913ba011e3",
        "colab": {
          "base_uri": "https://localhost:8080/"
        }
      },
      "execution_count": 6,
      "outputs": [
        {
          "output_type": "stream",
          "name": "stdout",
          "text": [
            "State: [0.6 0.6 0.6], Reward: 0.6\n",
            "State: [0.6 0.6 0.6], Reward: 0.6\n",
            "State: [0.6 0.6 0.6], Reward: 0.6\n",
            "State: [0.6 0.6 0.6], Reward: 0.6\n",
            "State: [0.7 0.7 0.7], Reward: 0.6999999999999998\n",
            "State: [0.8 0.8 0.8], Reward: 0.7999999999999999\n",
            "State: [0.9 0.9 0.9], Reward: 0.8999999999999999\n",
            "State: [0.9 0.9 0.9], Reward: 0.8999999999999999\n",
            "State: [1. 1. 1.], Reward: 0.9999999999999999\n",
            "State: [1. 1. 1.], Reward: 1.0\n",
            "State: [0.9 0.9 0.9], Reward: 0.9\n",
            "State: [1. 1. 1.], Reward: 1.0\n",
            "State: [1. 1. 1.], Reward: 1.0\n",
            "State: [1. 1. 1.], Reward: 1.0\n",
            "State: [1. 1. 1.], Reward: 1.0\n",
            "State: [1. 1. 1.], Reward: 1.0\n",
            "State: [0.9 0.9 0.9], Reward: 0.9\n",
            "State: [1. 1. 1.], Reward: 1.0\n",
            "State: [1. 1. 1.], Reward: 1.0\n",
            "State: [1. 1. 1.], Reward: 1.0\n",
            "State: [0.9 0.9 0.9], Reward: 0.9\n",
            "State: [1. 1. 1.], Reward: 1.0\n",
            "State: [1. 1. 1.], Reward: 1.0\n",
            "State: [1. 1. 1.], Reward: 1.0\n",
            "State: [1. 1. 1.], Reward: 1.0\n",
            "State: [1. 1. 1.], Reward: 1.0\n",
            "State: [1. 1. 1.], Reward: 1.0\n",
            "State: [1. 1. 1.], Reward: 1.0\n",
            "State: [0.9 0.9 0.9], Reward: 0.9\n",
            "State: [0.9 0.9 0.9], Reward: 0.9\n",
            "State: [0.8 0.8 0.8], Reward: 0.8000000000000002\n",
            "State: [0.9 0.9 0.9], Reward: 0.9\n",
            "State: [0.8 0.8 0.8], Reward: 0.8000000000000002\n",
            "State: [0.9 0.9 0.9], Reward: 0.9\n",
            "State: [0.9 0.9 0.9], Reward: 0.9\n",
            "State: [1. 1. 1.], Reward: 1.0\n",
            "State: [1. 1. 1.], Reward: 1.0\n",
            "State: [1. 1. 1.], Reward: 1.0\n",
            "State: [1. 1. 1.], Reward: 1.0\n",
            "State: [1. 1. 1.], Reward: 1.0\n",
            "State: [1. 1. 1.], Reward: 1.0\n",
            "State: [1. 1. 1.], Reward: 1.0\n",
            "State: [1. 1. 1.], Reward: 1.0\n",
            "State: [1. 1. 1.], Reward: 1.0\n",
            "State: [1. 1. 1.], Reward: 1.0\n",
            "State: [1. 1. 1.], Reward: 1.0\n",
            "State: [1. 1. 1.], Reward: 1.0\n",
            "State: [1. 1. 1.], Reward: 1.0\n",
            "State: [1. 1. 1.], Reward: 1.0\n",
            "State: [1. 1. 1.], Reward: 1.0\n",
            "State: [1. 1. 1.], Reward: 1.0\n",
            "State: [0.9 0.9 0.9], Reward: 0.9\n",
            "State: [1. 1. 1.], Reward: 1.0\n",
            "State: [1. 1. 1.], Reward: 1.0\n",
            "State: [1. 1. 1.], Reward: 1.0\n",
            "State: [1. 1. 1.], Reward: 1.0\n",
            "State: [1. 1. 1.], Reward: 1.0\n",
            "State: [1. 1. 1.], Reward: 1.0\n",
            "State: [1. 1. 1.], Reward: 1.0\n",
            "State: [1. 1. 1.], Reward: 1.0\n",
            "State: [1. 1. 1.], Reward: 1.0\n",
            "State: [1. 1. 1.], Reward: 1.0\n",
            "State: [1. 1. 1.], Reward: 1.0\n",
            "State: [1. 1. 1.], Reward: 1.0\n",
            "State: [1. 1. 1.], Reward: 1.0\n",
            "State: [1. 1. 1.], Reward: 1.0\n",
            "State: [1. 1. 1.], Reward: 1.0\n",
            "State: [1. 1. 1.], Reward: 1.0\n",
            "State: [1. 1. 1.], Reward: 1.0\n",
            "State: [1. 1. 1.], Reward: 1.0\n",
            "State: [1. 1. 1.], Reward: 1.0\n",
            "State: [1. 1. 1.], Reward: 1.0\n",
            "State: [1. 1. 1.], Reward: 1.0\n",
            "State: [1. 1. 1.], Reward: 1.0\n",
            "State: [1. 1. 1.], Reward: 1.0\n",
            "State: [1. 1. 1.], Reward: 1.0\n",
            "State: [1. 1. 1.], Reward: 1.0\n",
            "State: [1. 1. 1.], Reward: 1.0\n",
            "State: [1. 1. 1.], Reward: 1.0\n",
            "State: [0.9 0.9 0.9], Reward: 0.9\n",
            "State: [0.9 0.9 0.9], Reward: 0.9\n",
            "State: [0.9 0.9 0.9], Reward: 0.9\n",
            "State: [0.9 0.9 0.9], Reward: 0.9\n",
            "State: [0.8 0.8 0.8], Reward: 0.8000000000000002\n",
            "State: [0.9 0.9 0.9], Reward: 0.9\n",
            "State: [1. 1. 1.], Reward: 1.0\n",
            "State: [1. 1. 1.], Reward: 1.0\n",
            "State: [1. 1. 1.], Reward: 1.0\n",
            "State: [1. 1. 1.], Reward: 1.0\n",
            "State: [1. 1. 1.], Reward: 1.0\n",
            "State: [1. 1. 1.], Reward: 1.0\n",
            "State: [1. 1. 1.], Reward: 1.0\n",
            "State: [1. 1. 1.], Reward: 1.0\n",
            "State: [1. 1. 1.], Reward: 1.0\n",
            "State: [0.9 0.9 0.9], Reward: 0.9\n",
            "State: [1. 1. 1.], Reward: 1.0\n",
            "State: [1. 1. 1.], Reward: 1.0\n",
            "State: [1. 1. 1.], Reward: 1.0\n",
            "State: [0.9 0.9 0.9], Reward: 0.9\n",
            "State: [1. 1. 1.], Reward: 1.0\n"
          ]
        }
      ]
    },
    {
      "cell_type": "code",
      "source": [
        "import matplotlib.pyplot as plt\n",
        "\n",
        "# Initialize the environment and the agent\n",
        "env = CloudEnv()\n",
        "model = PPO(\"MlpPolicy\", env, verbose=1)\n",
        "\n",
        "# Train the agent and collect rewards\n",
        "rewards_over_time = []\n",
        "obs = env.reset()\n",
        "for _ in range(1000):  # Run for 1000 steps\n",
        "    action, _states = model.predict(obs)\n",
        "    obs, reward, done, info = env.step(action)\n",
        "    rewards_over_time.append(reward)  # Collect the reward\n",
        "    if done:\n",
        "        obs = env.reset()\n",
        "\n",
        "# Plot the rewards over time\n",
        "plt.plot(rewards_over_time)\n",
        "plt.xlabel(\"Time Steps\")\n",
        "plt.ylabel(\"Reward\")\n",
        "plt.title(\"Agent Performance Over Time\")\n",
        "plt.show()"
      ],
      "metadata": {
        "id": "UHLtHmZFZVDo",
        "outputId": "34baab8c-4f18-4956-c137-c5f87e66a6ed",
        "colab": {
          "base_uri": "https://localhost:8080/",
          "height": 579
        }
      },
      "execution_count": 8,
      "outputs": [
        {
          "output_type": "stream",
          "name": "stdout",
          "text": [
            "Using cpu device\n",
            "Wrapping the env with a `Monitor` wrapper\n",
            "Wrapping the env in a DummyVecEnv.\n"
          ]
        },
        {
          "output_type": "stream",
          "name": "stderr",
          "text": [
            "/usr/local/lib/python3.11/dist-packages/stable_baselines3/common/vec_env/patch_gym.py:49: UserWarning: You provided an OpenAI Gym environment. We strongly recommend transitioning to Gymnasium environments. Stable-Baselines3 is automatically wrapping your environments in a compatibility layer, which could potentially cause issues.\n",
            "  warnings.warn(\n"
          ]
        },
        {
          "output_type": "display_data",
          "data": {
            "text/plain": [
              "<Figure size 640x480 with 1 Axes>"
            ],
            "image/png": "[encoded data removed]"
          },
          "metadata": {}
        }
      ]
    }
  ]
}